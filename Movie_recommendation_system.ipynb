{
  "nbformat": 4,
  "nbformat_minor": 0,
  "metadata": {
    "colab": {
      "provenance": []
    },
    "kernelspec": {
      "name": "python3",
      "display_name": "Python 3"
    },
    "language_info": {
      "name": "python"
    }
  },
  "cells": [
    {
      "cell_type": "code",
      "execution_count": null,
      "metadata": {
        "id": "IhNGupWCU7Pe"
      },
      "outputs": [],
      "source": [
        "!pip install nltk scikit-learn numpy pandas -q"
      ]
    },
    {
      "cell_type": "markdown",
      "source": [
        "**Importing the Dependencies**"
      ],
      "metadata": {
        "id": "_dk1ZTpzWI2F"
      }
    },
    {
      "cell_type": "code",
      "source": [
        "import numpy as np\n",
        "import pandas as pd\n",
        "import matplotlib.pyplot as plt\n",
        "from sklearn.feature_extraction.text import TfidfVectorizer\n",
        "from sklearn.metrics.pairwise import cosine_similarity\n",
        "from wordcloud import WordCloud\n",
        "import re\n",
        "import nltk\n",
        "from nltk.corpus import stopwords\n",
        "from nltk.tokenize import word_tokenize"
      ],
      "metadata": {
        "id": "sGytGoajWDFw"
      },
      "execution_count": null,
      "outputs": []
    },
    {
      "cell_type": "markdown",
      "source": [
        "**Data Loading & Understanding**"
      ],
      "metadata": {
        "id": "tZ_cRB5RWRpv"
      }
    },
    {
      "cell_type": "code",
      "source": [
        "# loading the dataset to a pandas dataframe\n",
        "df = pd.read_csv(\"movies.csv\")"
      ],
      "metadata": {
        "id": "ET0_Yn8UWKrO"
      },
      "execution_count": null,
      "outputs": []
    },
    {
      "cell_type": "code",
      "source": [
        "df.shape"
      ],
      "metadata": {
        "id": "oONubMrcWXmZ"
      },
      "execution_count": null,
      "outputs": []
    },
    {
      "cell_type": "code",
      "source": [
        "df.head(2)"
      ],
      "metadata": {
        "id": "6LkmKoiaWZRo"
      },
      "execution_count": null,
      "outputs": []
    },
    {
      "cell_type": "code",
      "source": [
        "df.info()"
      ],
      "metadata": {
        "id": "VV3I62KDWcbR"
      },
      "execution_count": null,
      "outputs": []
    },
    {
      "cell_type": "code",
      "source": [
        "# filter the required columns for recommendation\n",
        "required_columns = [\"genres\", \"keywords\", \"overview\", \"title\"]\n",
        "\n",
        "df = df[required_columns]"
      ],
      "metadata": {
        "id": "eulKPHS1WhSt"
      },
      "execution_count": null,
      "outputs": []
    },
    {
      "cell_type": "code",
      "source": [
        "df.shape"
      ],
      "metadata": {
        "id": "NJhtpvn4XNu-"
      },
      "execution_count": null,
      "outputs": []
    },
    {
      "cell_type": "code",
      "source": [
        "df.head()"
      ],
      "metadata": {
        "id": "1_zIi-dlXOqc"
      },
      "execution_count": null,
      "outputs": []
    },
    {
      "cell_type": "code",
      "source": [
        "# check for missing values\n",
        "df.info()"
      ],
      "metadata": {
        "id": "k7M9NrymXQeI"
      },
      "execution_count": null,
      "outputs": []
    },
    {
      "cell_type": "code",
      "source": [
        "df = df.dropna().reset_index(drop=True)"
      ],
      "metadata": {
        "id": "sCTbvlPiXxa2"
      },
      "execution_count": null,
      "outputs": []
    },
    {
      "cell_type": "code",
      "source": [
        "df.info()"
      ],
      "metadata": {
        "id": "EzyZma7oX6n5"
      },
      "execution_count": null,
      "outputs": []
    },
    {
      "cell_type": "code",
      "source": [
        "df['combined'] = df['genres'] + ' ' + df['keywords'] + ' ' + df['overview']"
      ],
      "metadata": {
        "id": "iA6jlCI8X7Ti"
      },
      "execution_count": null,
      "outputs": []
    },
    {
      "cell_type": "code",
      "source": [
        "df.head()"
      ],
      "metadata": {
        "id": "oVjJHvA8YbBe"
      },
      "execution_count": null,
      "outputs": []
    },
    {
      "cell_type": "code",
      "source": [
        "df.tail()"
      ],
      "metadata": {
        "id": "8A_5kfZNYbug"
      },
      "execution_count": null,
      "outputs": []
    },
    {
      "cell_type": "code",
      "source": [
        "data = df[['title', 'combined']]"
      ],
      "metadata": {
        "id": "YhZEo8jrYgMi"
      },
      "execution_count": null,
      "outputs": []
    },
    {
      "cell_type": "code",
      "source": [
        "data.head()"
      ],
      "metadata": {
        "id": "insms6TgYpIj"
      },
      "execution_count": null,
      "outputs": []
    },
    {
      "cell_type": "code",
      "source": [
        "data.shape"
      ],
      "metadata": {
        "id": "5oH2A1hTYp0g"
      },
      "execution_count": null,
      "outputs": []
    },
    {
      "cell_type": "code",
      "source": [
        "# WordCloud for movie content\n",
        "combined_text = \" \".join(df['combined'])\n",
        "wordcloud = WordCloud(width=800, height=400, background_color=\"white\").generate(combined_text)"
      ],
      "metadata": {
        "id": "1GCwYE4FYrEk"
      },
      "execution_count": null,
      "outputs": []
    },
    {
      "cell_type": "code",
      "source": [
        "# WordCloud to visualize the most common words in the movie content\n",
        "plt.figure(figsize=(10, 5))\n",
        "plt.imshow(wordcloud, interpolation='bilinear')\n",
        "plt.axis(\"off\")\n",
        "plt.title(\"Most Common Words in Movie content\")\n",
        "plt.show()"
      ],
      "metadata": {
        "id": "DO63OFwVY2qL"
      },
      "execution_count": null,
      "outputs": []
    },
    {
      "cell_type": "code",
      "source": [
        "# download nltk data\n",
        "nltk.download('punkt')\n",
        "nltk.download('punkt_tab')\n",
        "nltk.download('stopwords')"
      ],
      "metadata": {
        "id": "G2JWcbnuY7oe"
      },
      "execution_count": null,
      "outputs": []
    },
    {
      "cell_type": "code",
      "source": [
        "stop_words = set(stopwords.words('english'))"
      ],
      "metadata": {
        "id": "KxWUALdkZIzW"
      },
      "execution_count": null,
      "outputs": []
    },
    {
      "cell_type": "code",
      "source": [
        "def preprocess_text(text):\n",
        "    # Remove special characters and numbers\n",
        "    text = re.sub(r\"[^a-zA-Z\\s]\", \"\", text)\n",
        "    # Convert to lowercase\n",
        "    text = text.lower()\n",
        "    # Tokenize and remove stopwords\n",
        "    tokens = word_tokenize(text)\n",
        "    tokens = [word for word in tokens if word not in stop_words]\n",
        "    return \" \".join(tokens)"
      ],
      "metadata": {
        "id": "IiNmHEV3ZLhM"
      },
      "execution_count": null,
      "outputs": []
    },
    {
      "cell_type": "code",
      "source": [
        "# Apply preprocessing to the movie content\n",
        "data['cleaned_text'] = df['combined'].apply(preprocess_text)"
      ],
      "metadata": {
        "id": "0xKsI2iQZMz-"
      },
      "execution_count": null,
      "outputs": []
    },
    {
      "cell_type": "code",
      "source": [
        "data.head()"
      ],
      "metadata": {
        "id": "dOTbqGAyZRl7"
      },
      "execution_count": null,
      "outputs": []
    },
    {
      "cell_type": "code",
      "source": [
        "# Vectorization with TF-IDF\n",
        "tfidf_vectorizer = TfidfVectorizer(max_features=5000)\n",
        "tfidf_matrix = tfidf_vectorizer.fit_transform(data['cleaned_text'])"
      ],
      "metadata": {
        "id": "V1hi3huhZgTt"
      },
      "execution_count": null,
      "outputs": []
    },
    {
      "cell_type": "code",
      "source": [
        "# Compute Cosine Similarity\n",
        "cosine_sim = cosine_similarity(tfidf_matrix, tfidf_matrix)"
      ],
      "metadata": {
        "id": "r3vNguXUaTmy"
      },
      "execution_count": null,
      "outputs": []
    },
    {
      "cell_type": "code",
      "source": [
        "print(cosine_sim[1])"
      ],
      "metadata": {
        "id": "Q6OUuPyjcNKw"
      },
      "execution_count": null,
      "outputs": []
    },
    {
      "cell_type": "code",
      "source": [
        "# Recommendation Function\n",
        "def recommend_movies(movie_name, cosine_sim=cosine_sim, df=data, top_n=5):\n",
        "    # Find the index of the movie\n",
        "    idx = df[df['title'].str.lower() == movie_name.lower()].index\n",
        "    if len(idx) == 0:\n",
        "        return \"Movie not found in the dataset!\"\n",
        "    idx = idx[0]\n",
        "\n",
        "    # Get similarity scores\n",
        "    sim_scores = list(enumerate(cosine_sim[idx]))\n",
        "    sim_scores = sorted(sim_scores, key=lambda x: x[1], reverse=True)\n",
        "    sim_scores = sim_scores[1:top_n+1]\n",
        "\n",
        "    # Get movie indices\n",
        "    movie_indices = [i[0] for i in sim_scores]\n",
        "\n",
        "    # Return top n similar movies\n",
        "    return df[['title']].iloc[movie_indices]"
      ],
      "metadata": {
        "id": "MBn1g4iNactO"
      },
      "execution_count": null,
      "outputs": []
    },
    {
      "cell_type": "code",
      "source": [
        "data[\"title\"]"
      ],
      "metadata": {
        "id": "dvcG3DnEbzQc"
      },
      "execution_count": null,
      "outputs": []
    },
    {
      "cell_type": "code",
      "source": [
        "# row_index = df[df['title'] == \"Avengers: Age of Ultron\"].index\n",
        "row_index = df[df['title'] == \"Batman v Superman: Dawn of Justice\"].index\n",
        "print(row_index)"
      ],
      "metadata": {
        "id": "agmJZFWepvUo"
      },
      "execution_count": null,
      "outputs": []
    },
    {
      "cell_type": "code",
      "source": [
        "movie_name = data[\"title\"][9]\n",
        "print(movie_name)"
      ],
      "metadata": {
        "id": "TUe335WwamLg"
      },
      "execution_count": null,
      "outputs": []
    },
    {
      "cell_type": "code",
      "source": [
        "# Example Recommendation\n",
        "print(f\"Recommendations for the Movie {movie_name}\")\n",
        "recommendations = recommend_movies(movie_name)\n",
        "print(recommendations)"
      ],
      "metadata": {
        "id": "pC4u6e4RaoFg"
      },
      "execution_count": null,
      "outputs": []
    },
    {
      "cell_type": "code",
      "source": [],
      "metadata": {
        "id": "gTz8tHSpa7Bm"
      },
      "execution_count": null,
      "outputs": []
    }
  ]
}